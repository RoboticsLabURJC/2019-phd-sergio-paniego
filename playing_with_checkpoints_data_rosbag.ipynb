{
 "cells": [
  {
   "cell_type": "code",
   "execution_count": 23,
   "metadata": {},
   "outputs": [
    {
     "name": "stdout",
     "output_type": "stream",
     "text": [
      "{'world': 'f1_1_simplecircuit.launch', 'brain_path': 'brain_f1_opencv.py', 'robot_type': 'f1'}\n",
      "f1_1_simplecircuit.launch\n",
      "brain_f1_opencv.py\n",
      "f1\n",
      "3067\n"
     ]
    }
   ],
   "source": [
    "import sys\n",
    "import json\n",
    "import yaml\n",
    "import rosbag\n",
    "\n",
    "#sys.path.append(\"/opt/ros/noetic/lib/python3/dist-packages\")\n",
    "\n",
    "bag = rosbag.Bag('full-lap.bag')\n",
    "checkpoints = []\n",
    "\n",
    "\n",
    "for topic, point, t in bag.read_messages(topics=['/F1ROS/odom']):\n",
    "    checkpoints.append(point)\n",
    "\n",
    "    \n",
    "for topic, point, t in bag.read_messages(topics=['/metadata']):\n",
    "    \n",
    "    y = yaml.load(str(point), Loader=yaml.FullLoader)\n",
    "    h = json.dumps(y,indent=4)\n",
    "    data = json.loads(h)\n",
    "    metadata = json.loads(data['data'])\n",
    "    \n",
    "print(metadata)\n",
    "print(metadata['world'])\n",
    "print(metadata['brain_path'])\n",
    "print(metadata['robot_type'])\n",
    "print(len(checkpoints))\n",
    "bag.close()\n"
   ]
  },
  {
   "cell_type": "code",
   "execution_count": 32,
   "metadata": {},
   "outputs": [
    {
     "name": "stdout",
     "output_type": "stream",
     "text": [
      "header: \n",
      "  seq: 331\n",
      "  stamp: \n",
      "    secs: 16\n",
      "    nsecs: 931000000\n",
      "  frame_id: \"odom\"\n",
      "child_frame_id: \"xf1\"\n",
      "pose: \n",
      "  pose: \n",
      "    position: \n",
      "      x: 53.461998161262045\n",
      "      y: -10.734081361658387\n",
      "      z: 0.0\n",
      "    orientation: \n",
      "      x: 0.003688676544119534\n",
      "      y: 0.0036380519485292103\n",
      "      z: -0.7068167845186493\n",
      "      w: 0.707377686505653\n",
      "  covariance: [1e-05, 0.0, 0.0, 0.0, 0.0, 0.0, 0.0, 1e-05, 0.0, 0.0, 0.0, 0.0, 0.0, 0.0, 1000000000000.0, 0.0, 0.0, 0.0, 0.0, 0.0, 0.0, 1000000000000.0, 0.0, 0.0, 0.0, 0.0, 0.0, 0.0, 1000000000000.0, 0.0, 0.0, 0.0, 0.0, 0.0, 0.0, 0.001]\n",
      "twist: \n",
      "  twist: \n",
      "    linear: \n",
      "      x: -1.1263930887898282e-06\n",
      "      y: -1.6808708682122744e-07\n",
      "      z: 0.0\n",
      "    angular: \n",
      "      x: 0.0\n",
      "      y: 0.0\n",
      "      z: 0.0\n",
      "  covariance: [0.0, 0.0, 0.0, 0.0, 0.0, 0.0, 0.0, 0.0, 0.0, 0.0, 0.0, 0.0, 0.0, 0.0, 0.0, 0.0, 0.0, 0.0, 0.0, 0.0, 0.0, 0.0, 0.0, 0.0, 0.0, 0.0, 0.0, 0.0, 0.0, 0.0, 0.0, 0.0, 0.0, 0.0, 0.0, 0.0]\n",
      "<class 'tmpb9p33954._nav_msgs__Odometry'>\n",
      "{'header': {'seq': 331, 'stamp': {'secs': 16, 'nsecs': 931000000}, 'frame_id': 'odom'}, 'child_frame_id': 'xf1', 'pose': {'pose': {'position': {'x': 53.461998161262045, 'y': -10.734081361658387, 'z': 0.0}, 'orientation': {'x': 0.003688676544119534, 'y': 0.0036380519485292103, 'z': -0.7068167845186493, 'w': 0.707377686505653}}, 'covariance': ['1e-05', 0.0, 0.0, 0.0, 0.0, 0.0, 0.0, '1e-05', 0.0, 0.0, 0.0, 0.0, 0.0, 0.0, 1000000000000.0, 0.0, 0.0, 0.0, 0.0, 0.0, 0.0, 1000000000000.0, 0.0, 0.0, 0.0, 0.0, 0.0, 0.0, 1000000000000.0, 0.0, 0.0, 0.0, 0.0, 0.0, 0.0, 0.001]}, 'twist': {'twist': {'linear': {'x': -1.1263930887898282e-06, 'y': -1.6808708682122744e-07, 'z': 0.0}, 'angular': {'x': 0.0, 'y': 0.0, 'z': 0.0}}, 'covariance': [0.0, 0.0, 0.0, 0.0, 0.0, 0.0, 0.0, 0.0, 0.0, 0.0, 0.0, 0.0, 0.0, 0.0, 0.0, 0.0, 0.0, 0.0, 0.0, 0.0, 0.0, 0.0, 0.0, 0.0, 0.0, 0.0, 0.0, 0.0, 0.0, 0.0, 0.0, 0.0, 0.0, 0.0, 0.0, 0.0]}}\n",
      "<class 'dict'>\n",
      "{'seq': 331, 'stamp': {'secs': 16, 'nsecs': 931000000}, 'frame_id': 'odom'}\n"
     ]
    }
   ],
   "source": [
    "#for point in checkpoints:\n",
    "#    print(point)\n",
    "print(checkpoints[0])\n",
    "print(type(checkpoints[0]))\n",
    "y = yaml.load(str(checkpoints[0]), Loader=yaml.FullLoader)\n",
    "print(y)\n",
    "print(type(y))\n",
    "print(y['header'])"
   ]
  },
  {
   "cell_type": "code",
   "execution_count": 35,
   "metadata": {},
   "outputs": [
    {
     "data": {
      "image/png": "[encoded data removed]",
      "text/plain": [
       "<Figure size 432x288 with 1 Axes>"
      ]
     },
     "metadata": {
      "needs_background": "light"
     },
     "output_type": "display_data"
    }
   ],
   "source": [
    "import numpy as np\n",
    "import matplotlib.pyplot as plt\n",
    "\n",
    "x_points = []\n",
    "y_points = []\n",
    "\n",
    "for point in checkpoints:\n",
    "    point_yml = yaml.load(str(point), Loader=yaml.FullLoader)\n",
    "    # print(point)\n",
    "    x_points.append(point_yml['pose']['pose']['position']['x'])\n",
    "    y_points.append(point_yml['pose']['pose']['position']['y'])\n",
    "\n",
    "\n",
    "plt.scatter(x_points, y_points)\n",
    "plt.show()"
   ]
  },
  {
   "cell_type": "code",
   "execution_count": 51,
   "metadata": {},
   "outputs": [
    {
     "name": "stdout",
     "output_type": "stream",
     "text": [
      "TIME TO COMPLETE LAP -> 155 s\n",
      "LONGITUDE -> 430.5358286112984 m\n",
      "SPEED -> 2.777650507169667 m/s\n"
     ]
    }
   ],
   "source": [
    "def finish_line(point_1, point_2):\n",
    "    point_1_yml = yaml.load(str(point_1), Loader=yaml.FullLoader)\n",
    "    point_2_yml = yaml.load(str(point_2), Loader=yaml.FullLoader)\n",
    "    current_point = np.array([point_1_yml['pose']['pose']['position']['x'], point_1_yml['pose']['pose']['position']['y']])\n",
    "    start_point = np.array([point_2_yml['pose']['pose']['position']['x'], point_2_yml['pose']['pose']['position']['y']])\n",
    "\n",
    "    dist = (start_point - current_point) ** 2\n",
    "    dist = np.sum(dist, axis=0)\n",
    "    dist = np.sqrt(dist)\n",
    "    if dist < 0.5:\n",
    "        return True\n",
    "    return False\n",
    "\n",
    "def circuit_diameter(data):\n",
    "    previous_point = []\n",
    "    diameter = 0\n",
    "    for i, point in enumerate(checkpoints):\n",
    "        point_yml = yaml.load(str(point), Loader=yaml.FullLoader)\n",
    "        current_point = np.array([point_yml['pose']['pose']['position']['x'], point_yml['pose']['pose']['position']['y']])\n",
    "        if i is not 0:\n",
    "            dist = (previous_point - current_point) ** 2\n",
    "            dist = np.sum(dist, axis=0)\n",
    "            dist = np.sqrt(dist)\n",
    "            diameter += dist\n",
    "            # distancia entre el punto y el anterior excepto en el primer punto que no hay. Esa distancia se suma.\n",
    "        if point is lap_point:\n",
    "            break\n",
    "        previous_point = np.array([point_yml['pose']['pose']['position']['x'], point_yml['pose']['pose']['position']['y']])\n",
    "    return diameter\n",
    "        \n",
    "\n",
    "\n",
    "# Find how many laps has the robot completed.\n",
    "start_point = checkpoints[0]\n",
    "start_point_yml = yaml.load(str(start_point), Loader=yaml.FullLoader)\n",
    "\n",
    "for x, point in enumerate(checkpoints):\n",
    "    point_yml = yaml.load(str(point), Loader=yaml.FullLoader)\n",
    "    if x is not 0 and finish_line(point, start_point) and point_yml['header']['stamp']['secs'] - 10 > start_point_yml['header']['stamp']['secs']:\n",
    "        lap_point = point\n",
    "        \n",
    "seconds_start = start_point_yml['header']['stamp']['secs']\n",
    "lap_point_yml = yaml.load(str(lap_point), Loader=yaml.FullLoader)\n",
    "seconds_end = lap_point_yml['header']['stamp']['secs']\n",
    "lap_seconds = seconds_end - seconds_start\n",
    "\n",
    "# TIME TO COMPLETE LAP\n",
    "print('TIME TO COMPLETE LAP -> ' + str(lap_seconds) + ' s')            \n",
    "# CIRCUIT LONGITUDE\n",
    "print('LONGITUDE -> ' + str(circuit_diameter(data)) + ' m')\n",
    "# AVERAGE SPEED\n",
    "print('SPEED -> ' + str(circuit_diameter(data)/lap_seconds) + ' m/s')"
   ]
  },
  {
   "cell_type": "code",
   "execution_count": null,
   "metadata": {},
   "outputs": [],
   "source": []
  }
 ],
 "metadata": {
  "kernelspec": {
   "display_name": "Python 3",
   "language": "python",
   "name": "python3"
  },
  "language_info": {
   "codemirror_mode": {
    "name": "ipython",
    "version": 3
   },
   "file_extension": ".py",
   "mimetype": "text/x-python",
   "name": "python",
   "nbconvert_exporter": "python",
   "pygments_lexer": "ipython3",
   "version": "3.7.9"
  }
 },
 "nbformat": 4,
 "nbformat_minor": 4
}
