{
 "cells": [
  {
   "cell_type": "code",
   "execution_count": 1,
   "metadata": {},
   "outputs": [],
   "source": [
    "from tensorflow.keras.utils import Sequence\n",
    "from skimage.io import imread\n",
    "from skimage.transform import resize\n",
    "import numpy as np\n",
    "import math\n",
    "\n",
    "class DatasetSequence(Sequence):\n",
    "    def __init__(self, x_set, y_set, batch_size, augmentations):\n",
    "        self.x, self.y = x_set, y_set\n",
    "        self.batch_size = batch_size\n",
    "        self.augment = augmentations\n",
    "\n",
    "    def __len__(self):\n",
    "        return math.ceil(len(self.x) / self.batch_size)\n",
    "\n",
    "    def __getitem__(self, idx):\n",
    "        batch_x = self.x[idx * self.batch_size:(idx + 1) *\n",
    "        self.batch_size]\n",
    "        batch_y = self.y[idx * self.batch_size:(idx + 1) *\n",
    "        self.batch_size]\n",
    "\n",
    "        return np.stack([\n",
    "            self.augment(image=x)[\"image\"] for x in batch_x\n",
    "        ], axis=0), np.array(batch_y)"
   ]
  },
  {
   "cell_type": "code",
   "execution_count": 2,
   "metadata": {},
   "outputs": [
    {
     "name": "stdout",
     "output_type": "stream",
     "text": [
      "---- Complete ----\n",
      "34682\n",
      "<class 'list'>\n",
      "34682\n",
      "55346\n",
      "<class 'list'>\n",
      "55346\n",
      "55346\n",
      "<class 'list'>\n",
      "55346\n",
      "---- Curves ----\n",
      "10536\n",
      "<class 'list'>\n",
      "10536\n",
      "12758\n",
      "<class 'list'>\n",
      "12758\n",
      "12758\n",
      "<class 'list'>\n",
      "12758\n"
     ]
    }
   ],
   "source": [
    "import glob\n",
    "import os\n",
    "import cv2\n",
    "\n",
    "import numpy as np\n",
    "\n",
    "from sklearn.model_selection import train_test_split\n",
    "from matplotlib import pyplot as plt\n",
    "\n",
    "from albumentations import (\n",
    "    Compose, HorizontalFlip\n",
    ")\n",
    "\n",
    "\n",
    "def get_images(list_images, type_image):\n",
    "    # Read the images\n",
    "    array_imgs = []\n",
    "    for name in list_images:\n",
    "        img = cv2.imread(name)\n",
    "        img = cv2.cvtColor(img, cv2.COLOR_BGR2RGB)\n",
    "        if type_image == 'cropped':\n",
    "            img = img[240:480, 0:640]\n",
    "        img = cv2.resize(img, (int(img.shape[1] / 4), int(img.shape[0] / 4)))\n",
    "        array_imgs.append(img)\n",
    "\n",
    "    return array_imgs\n",
    "\n",
    "def parse_json(data):\n",
    "    # Process json\n",
    "    array_annotations_v = []\n",
    "    array_annotations_w = []\n",
    "    array = []\n",
    "    data_parse = data.split('}')[:-1]\n",
    "\n",
    "    for number, d in enumerate(data_parse):\n",
    "        v = d.split('\"v\": ')[1]\n",
    "        d_parse = d.split(', \"v\":')[0]\n",
    "        w = d_parse.split(('\"w\": '))[1]\n",
    "        array_annotations_v.append(float(v))\n",
    "        array_annotations_w.append(float(w))\n",
    "        array.append((float(v), float(w)))\n",
    "    '''    \n",
    "    # START NORMALIZE DATA\n",
    "    array_annotations_v = np.stack(array_annotations_v, axis=0)\n",
    "    array_annotations_v = array_annotations_v.reshape(-1, 1)\n",
    "\n",
    "    array_annotations_w = np.stack(array_annotations_w, axis=0)\n",
    "    array_annotations_w = array_annotations_w.reshape(-1, 1)\n",
    "\n",
    "    normalized_X = normalize(array_annotations_v)\n",
    "    normalized_Y = normalize(array_annotations_w)\n",
    "\n",
    "    normalized_annotations = []\n",
    "    for i in range(0, len(normalized_X)):\n",
    "        normalized_annotations.append([normalized_X.item(i), normalized_Y.item(i)])\n",
    "\n",
    "    return normalized_annotations\n",
    "    '''\n",
    "    return array\n",
    "\n",
    "def flip_images(images, array_annotations):\n",
    "    FLIP_AUGMENTATION = Compose([\n",
    "        HorizontalFlip(),\n",
    "    ])\n",
    "    \n",
    "    flipped_images = []\n",
    "    flipped_annotations = []\n",
    "    for i, image in enumerate(images):\n",
    "        flipped_images.append(cv2.flip(image, 1))\n",
    "        flipped_annotations.append((array_annotations[i][0], -array_annotations[i][1]))\n",
    "        #flipped_image = FLIP_AUGMENTATION(image=image)['image']\n",
    "        #flipped_images.append(flipped_image)\n",
    "        #flipped_annotations.append([array_annotations[i][0], 1-array_annotations[i][1]])\n",
    "    \n",
    "    images += flipped_images\n",
    "    array_annotations += flipped_annotations\n",
    "    return images, array_annotations\n",
    "\n",
    "\n",
    "def add_extreme_data(images, array_annotations):\n",
    "    for i in range(0, len(array_annotations)):\n",
    "        if abs(array_annotations[i][1]) >= 1:\n",
    "            if abs(array_annotations[i][1]) >= 2:\n",
    "                num_iter = 10\n",
    "            else:\n",
    "                num_iter = 5\n",
    "            for j in range(0, num_iter):\n",
    "                array_annotations.append(array_annotations[i])\n",
    "                images.append(images[i])\n",
    "        if float(array_annotations[i][0]) <= 2:\n",
    "            for j in range(0, 1):\n",
    "                array_annotations.append(array_annotations[i])\n",
    "                images.append(images[i])\n",
    "    return images, array_annotations\n",
    "\n",
    "def normalize(x):\n",
    "    x = np.asarray(x)\n",
    "    return (x - x.min()) / (np.ptp(x))\n",
    "\n",
    "print('---- Complete ----')\n",
    "complete_name_file = 'complete_dataset/data.json'\n",
    "complete_file = open(complete_name_file, 'r')\n",
    "data_complete = complete_file.read()\n",
    "complete_file.close()\n",
    "\n",
    "array_annotations_complete = []\n",
    "DIR_complete_images = 'complete_dataset/Images/'\n",
    "list_images_complete = glob.glob(DIR_complete_images + '*')\n",
    "images_paths_complete = sorted(list_images_complete, key=lambda x: int(x.split('/')[2].split('.png')[0]))\n",
    "#print(images_paths_complete)\n",
    "array_annotations_complete = parse_json(data_complete)\n",
    "\n",
    "images_complete = get_images(images_paths_complete, 'cropped')\n",
    "images_complete, array_annotations_complete = flip_images(images_complete, array_annotations_complete)\n",
    "print(len(images_complete))\n",
    "print(type(images_complete))\n",
    "print(len(array_annotations_complete))\n",
    "images_complete, array_annotations_complete = add_extreme_data(images_complete, array_annotations_complete)\n",
    "print(len(images_complete))\n",
    "print(type(images_complete))\n",
    "print(len(array_annotations_complete))\n",
    "\n",
    "array_annotations_v = []\n",
    "array_annotations_w = []\n",
    "for annotation in array_annotations_complete:\n",
    "    array_annotations_v.append(annotation[0])\n",
    "    array_annotations_w.append(annotation[1])\n",
    "    \n",
    "# START NORMALIZE DATA\n",
    "array_annotations_v = np.stack(array_annotations_v, axis=0)\n",
    "array_annotations_v = array_annotations_v.reshape(-1, 1)\n",
    "\n",
    "array_annotations_w = np.stack(array_annotations_w, axis=0)\n",
    "array_annotations_w = array_annotations_w.reshape(-1, 1)\n",
    "\n",
    "normalized_X = normalize(array_annotations_v)\n",
    "normalized_Y = normalize(array_annotations_w)\n",
    "\n",
    "normalized_annotations = []\n",
    "for i in range(0, len(normalized_X)):\n",
    "    normalized_annotations.append([normalized_X.item(i), normalized_Y.item(i)])\n",
    "    \n",
    "array_annotations_complete = normalized_annotations\n",
    "\n",
    "print(len(images_complete))\n",
    "print(type(images_complete))\n",
    "print(len(array_annotations_complete))\n",
    "\n",
    "\n",
    "print('---- Curves ----')\n",
    "curves_name_file = 'curves_only/data.json'\n",
    "file_curves = open(curves_name_file, 'r')\n",
    "data_curves = file_curves.read()\n",
    "file_curves.close()\n",
    "\n",
    "DIR_curves_images = 'curves_only/Images/'\n",
    "list_images_curves = glob.glob(DIR_curves_images + '*')\n",
    "images_paths_curves = sorted(list_images_curves, key=lambda x: int(x.split('/')[2].split('.png')[0]))\n",
    "array_annotations_curves = parse_json(data_curves)\n",
    "\n",
    "images_curves = get_images(images_paths_curves, 'cropped')\n",
    "images_curves, array_annotations_curves = flip_images(images_curves, array_annotations_curves)\n",
    "print(len(images_curves))\n",
    "print(type(images_curves))\n",
    "print(len(array_annotations_curves))\n",
    "images_curves, array_annotations_curves = add_extreme_data(images_curves, array_annotations_curves)\n",
    "print(len(images_curves))\n",
    "print(type(images_curves))\n",
    "print(len(array_annotations_curves))\n",
    "\n",
    "array_annotations_v = []\n",
    "array_annotations_w = []\n",
    "for annotation in array_annotations_curves:\n",
    "    array_annotations_v.append(annotation[0])\n",
    "    array_annotations_w.append(annotation[1])\n",
    "    \n",
    "# START NORMALIZE DATA\n",
    "array_annotations_v = np.stack(array_annotations_v, axis=0)\n",
    "array_annotations_v = array_annotations_v.reshape(-1, 1)\n",
    "\n",
    "array_annotations_w = np.stack(array_annotations_w, axis=0)\n",
    "array_annotations_w = array_annotations_w.reshape(-1, 1)\n",
    "\n",
    "normalized_X = normalize(array_annotations_v)\n",
    "normalized_Y = normalize(array_annotations_w)\n",
    "\n",
    "normalized_annotations = []\n",
    "for i in range(0, len(normalized_X)):\n",
    "    normalized_annotations.append([normalized_X.item(i), normalized_Y.item(i)])\n",
    "    \n",
    "array_annotations_curves = normalized_annotations\n",
    "\n",
    "print(len(images_curves))\n",
    "print(type(images_curves))\n",
    "print(len(array_annotations_curves))"
   ]
  },
  {
   "cell_type": "code",
   "execution_count": 5,
   "metadata": {},
   "outputs": [
    {
     "name": "stdout",
     "output_type": "stream",
     "text": [
      "--- COMPLETE DATA ---\n"
     ]
    },
    {
     "data": {
      "image/png": "[encoded data removed]",
      "text/plain": [
       "<Figure size 432x288 with 1 Axes>"
      ]
     },
     "metadata": {
      "needs_background": "light"
     },
     "output_type": "display_data"
    },
    {
     "data": {
      "image/png": "[encoded data removed]",
      "text/plain": [
       "<Figure size 432x288 with 1 Axes>"
      ]
     },
     "metadata": {
      "needs_background": "light"
     },
     "output_type": "display_data"
    },
    {
     "name": "stdout",
     "output_type": "stream",
     "text": [
      "--- CURVES DATA ---\n"
     ]
    },
    {
     "data": {
      "image/png": "[encoded data removed]",
      "text/plain": [
       "<Figure size 432x288 with 1 Axes>"
      ]
     },
     "metadata": {
      "needs_background": "light"
     },
     "output_type": "display_data"
    },
    {
     "data": {
      "image/png": "[encoded data removed]",
      "text/plain": [
       "<Figure size 432x288 with 1 Axes>"
      ]
     },
     "metadata": {
      "needs_background": "light"
     },
     "output_type": "display_data"
    }
   ],
   "source": [
    "print('--- COMPLETE DATA ---')\n",
    "ann_x = []\n",
    "ann_y = []\n",
    "for ann in array_annotations_complete:\n",
    "    ann_x.append(ann[0])\n",
    "    ann_y.append(ann[1])\n",
    "\n",
    "n, bins, patches = plt.hist(x=ann_x, bins='auto')\n",
    "plt.show()\n",
    "n, bins, patches = plt.hist(x=ann_y, bins='auto')\n",
    "plt.show()\n",
    "\n",
    "print('--- CURVES DATA ---')\n",
    "ann_x = []\n",
    "ann_y = []\n",
    "for ann in array_annotations_curves:\n",
    "    ann_x.append(ann[0])\n",
    "    ann_y.append(ann[1])\n",
    "\n",
    "n, bins, patches = plt.hist(x=ann_x, bins='auto')\n",
    "plt.show()\n",
    "n, bins, patches = plt.hist(x=ann_y, bins='auto')\n",
    "plt.show()"
   ]
  },
  {
   "cell_type": "code",
   "execution_count": 6,
   "metadata": {},
   "outputs": [
    {
     "name": "stdout",
     "output_type": "stream",
     "text": [
      "--- COMPLETE DATASET ---\n"
     ]
    },
    {
     "data": {
      "image/png": "[encoded data removed]",
      "text/plain": [
       "<Figure size 432x288 with 1 Axes>"
      ]
     },
     "metadata": {
      "needs_background": "light"
     },
     "output_type": "display_data"
    },
    {
     "data": {
      "image/png": "[encoded data removed]",
      "text/plain": [
       "<Figure size 432x288 with 1 Axes>"
      ]
     },
     "metadata": {
      "needs_background": "light"
     },
     "output_type": "display_data"
    }
   ],
   "source": [
    "complete_images = images_complete + images_curves\n",
    "complete_annotations = array_annotations_complete + array_annotations_curves\n",
    "\n",
    "print('--- COMPLETE DATASET ---')\n",
    "ann_x = []\n",
    "ann_y = []\n",
    "for ann in complete_annotations:\n",
    "    ann_x.append(ann[0])\n",
    "    ann_y.append(ann[1])\n",
    "\n",
    "n, bins, patches = plt.hist(x=ann_x, bins='auto')\n",
    "plt.show()\n",
    "n, bins, patches = plt.hist(x=ann_y, bins='auto')\n",
    "plt.show()"
   ]
  },
  {
   "cell_type": "code",
   "execution_count": 7,
   "metadata": {},
   "outputs": [
    {
     "name": "stdout",
     "output_type": "stream",
     "text": [
      "[1.         0.52855172]\n",
      "(47672, 2)\n",
      "(47672, 60, 160, 3)\n",
      "(20432, 60, 160, 3)\n"
     ]
    }
   ],
   "source": [
    "split_test_train_value = 0.30\n",
    "images_train, images_validation, annotations_train, annotations_validation = train_test_split(complete_images, complete_annotations, test_size=split_test_train_value, random_state=42, shuffle=True)\n",
    "\n",
    "# Adapt the data\n",
    "images_train = np.stack(images_train, axis=0)\n",
    "annotations_train = np.stack(annotations_train, axis=0)\n",
    "images_validation = np.stack(images_validation, axis=0)\n",
    "annotations_validation = np.stack(annotations_validation, axis=0)\n",
    "\n",
    "print(annotations_train[0])\n",
    "print(annotations_train.shape)\n",
    "\n",
    "#video = np.stack(array_imgs, axis=0)\n",
    "print(images_train.shape)\n",
    "print(images_validation.shape)"
   ]
  },
  {
   "cell_type": "code",
   "execution_count": 8,
   "metadata": {},
   "outputs": [],
   "source": [
    "from tensorflow.keras.utils import Sequence\n",
    "from skimage.io import imread\n",
    "from skimage.transform import resize\n",
    "import numpy as np\n",
    "import math\n",
    "\n",
    "class DatasetSequence(Sequence):\n",
    "    def __init__(self, x_set, y_set, batch_size, augmentations):\n",
    "        self.x, self.y = x_set, y_set\n",
    "        self.batch_size = batch_size\n",
    "        self.augment = augmentations\n",
    "\n",
    "    def __len__(self):\n",
    "        return math.ceil(len(self.x) / self.batch_size)\n",
    "\n",
    "    def __getitem__(self, idx):\n",
    "        batch_x = self.x[idx * self.batch_size:(idx + 1) *\n",
    "        self.batch_size]\n",
    "        batch_y = self.y[idx * self.batch_size:(idx + 1) *\n",
    "        self.batch_size]\n",
    "\n",
    "        return np.stack([\n",
    "            self.augment(image=x)[\"image\"] for x in batch_x\n",
    "        ], axis=0), np.array(batch_y)"
   ]
  },
  {
   "cell_type": "code",
   "execution_count": 9,
   "metadata": {},
   "outputs": [
    {
     "name": "stdout",
     "output_type": "stream",
     "text": [
      "--- ANNOTATIONS DATA ---\n"
     ]
    },
    {
     "data": {
      "image/png": "[encoded data removed]",
      "text/plain": [
       "<Figure size 432x288 with 1 Axes>"
      ]
     },
     "metadata": {
      "needs_background": "light"
     },
     "output_type": "display_data"
    },
    {
     "data": {
      "image/png": "[encoded data removed]",
      "text/plain": [
       "<Figure size 432x288 with 1 Axes>"
      ]
     },
     "metadata": {
      "needs_background": "light"
     },
     "output_type": "display_data"
    },
    {
     "name": "stdout",
     "output_type": "stream",
     "text": [
      "--- VALIDATION DATA ---\n"
     ]
    },
    {
     "data": {
      "image/png": "[encoded data removed]",
      "text/plain": [
       "<Figure size 432x288 with 1 Axes>"
      ]
     },
     "metadata": {
      "needs_background": "light"
     },
     "output_type": "display_data"
    },
    {
     "data": {
      "image/png": "[encoded data removed]",
      "text/plain": [
       "<Figure size 432x288 with 1 Axes>"
      ]
     },
     "metadata": {
      "needs_background": "light"
     },
     "output_type": "display_data"
    }
   ],
   "source": [
    "print('--- ANNOTATIONS DATA ---')\n",
    "ann_x = []\n",
    "ann_y = []\n",
    "for ann in annotations_train:\n",
    "    ann_x.append(ann[0])\n",
    "    ann_y.append(ann[1])\n",
    "\n",
    "n, bins, patches = plt.hist(x=ann_x, bins='auto')\n",
    "plt.show()\n",
    "n, bins, patches = plt.hist(x=ann_y, bins='auto')\n",
    "plt.show()\n",
    "\n",
    "print('--- VALIDATION DATA ---')\n",
    "ann_x = []\n",
    "ann_y = []\n",
    "for ann in annotations_validation:\n",
    "    ann_x.append(ann[0])\n",
    "    ann_y.append(ann[1])\n",
    "\n",
    "n, bins, patches = plt.hist(x=ann_x, bins='auto')\n",
    "plt.show()\n",
    "n, bins, patches = plt.hist(x=ann_y, bins='auto')\n",
    "plt.show()"
   ]
  },
  {
   "cell_type": "code",
   "execution_count": 10,
   "metadata": {},
   "outputs": [],
   "source": [
    "\n",
    "from albumentations import (\n",
    "    Compose, HorizontalFlip, RandomBrightnessContrast, \n",
    "    HueSaturationValue, FancyPCA, RandomGamma, GaussNoise,\n",
    "    GaussianBlur, ToFloat, Normalize\n",
    ")\n",
    "\n",
    "AUGMENTATIONS_TRAIN = Compose([\n",
    "    RandomBrightnessContrast(),\n",
    "    HueSaturationValue(),\n",
    "    FancyPCA(),\n",
    "    RandomGamma(),\n",
    "    GaussianBlur(),\n",
    "    GaussNoise(),\n",
    "    Normalize()\n",
    "])\n",
    "\n",
    "AUGMENTATIONS_TEST = Compose([\n",
    "    Normalize()\n",
    "])\n"
   ]
  },
  {
   "cell_type": "code",
   "execution_count": 11,
   "metadata": {},
   "outputs": [],
   "source": [
    "from tensorflow.keras.models import Sequential\n",
    "from tensorflow.keras.layers import Flatten, Dense, Conv2D, BatchNormalization, Dropout, ConvLSTM2D, Reshape, Activation, MaxPooling2D\n",
    "from tensorflow.keras.optimizers import Adam\n",
    "\n",
    "\n",
    "def pilotnet_model(img_shape):\n",
    "    '''\n",
    "    Model of End to End Learning for Self-Driving Cars (NVIDIA)\n",
    "    '''\n",
    "    model = Sequential()\n",
    "    model.add(BatchNormalization(epsilon=0.001, axis=-1, input_shape=img_shape))\n",
    "    model.add(Conv2D(24, (5, 5), strides=(2, 2), activation=\"relu\",padding='same'))\n",
    "    model.add(Conv2D(36, (5, 5), strides=(2, 2), activation=\"relu\",padding='same'))\n",
    "    model.add(Conv2D(48, (5, 5), strides=(2, 2), activation=\"relu\",padding='same'))\n",
    "    model.add(Conv2D(64, (3, 3), strides=(1, 1), activation=\"relu\",padding='same'))\n",
    "    model.add(Conv2D(64, (3, 3), strides=(1, 1), activation=\"relu\",padding='same'))\n",
    "    model.add(Flatten())\n",
    "    model.add(Dense(1164, activation=\"relu\"))\n",
    "    model.add(Dense(100, activation=\"relu\"))\n",
    "    model.add(Dense(50, activation=\"relu\"))\n",
    "    model.add(Dense(10, activation=\"relu\"))\n",
    "    model.add(Dense(2))\n",
    "    adam = Adam(learning_rate=0.0001)\n",
    "    model.compile(optimizer=adam, loss=\"mse\", metrics=['mse', 'mae'])\n",
    "    return model"
   ]
  },
  {
   "cell_type": "code",
   "execution_count": null,
   "metadata": {},
   "outputs": [
    {
     "name": "stdout",
     "output_type": "stream",
     "text": [
      "20210702-072336\n",
      "{'train_batch_size': 50, 'val_batch_size': 50, 'batch_size': 50, 'n_epochs': 100, 'checkpoint_dir': 'logs_test/'}\n",
      "<tensorflow.python.keras.engine.sequential.Sequential object at 0x7fc384ac3850>\n",
      "Model: \"sequential_1\"\n",
      "_________________________________________________________________\n",
      "Layer (type)                 Output Shape              Param #   \n",
      "=================================================================\n",
      "batch_normalization_1 (Batch (None, 60, 160, 3)        12        \n",
      "_________________________________________________________________\n",
      "conv2d_5 (Conv2D)            (None, 30, 80, 24)        1824      \n",
      "_________________________________________________________________\n",
      "conv2d_6 (Conv2D)            (None, 15, 40, 36)        21636     \n",
      "_________________________________________________________________\n",
      "conv2d_7 (Conv2D)            (None, 8, 20, 48)         43248     \n",
      "_________________________________________________________________\n",
      "conv2d_8 (Conv2D)            (None, 8, 20, 64)         27712     \n",
      "_________________________________________________________________\n",
      "conv2d_9 (Conv2D)            (None, 8, 20, 64)         36928     \n",
      "_________________________________________________________________\n",
      "flatten_1 (Flatten)          (None, 10240)             0         \n",
      "_________________________________________________________________\n",
      "dense_5 (Dense)              (None, 1164)              11920524  \n",
      "_________________________________________________________________\n",
      "dense_6 (Dense)              (None, 100)               116500    \n",
      "_________________________________________________________________\n",
      "dense_7 (Dense)              (None, 50)                5050      \n",
      "_________________________________________________________________\n",
      "dense_8 (Dense)              (None, 10)                510       \n",
      "_________________________________________________________________\n",
      "dense_9 (Dense)              (None, 2)                 22        \n",
      "=================================================================\n",
      "Total params: 12,173,966\n",
      "Trainable params: 12,173,960\n",
      "Non-trainable params: 6\n",
      "_________________________________________________________________\n",
      "None\n",
      "Epoch 1/100\n",
      "954/954 - 319s - loss: 0.0182 - mse: 0.0182 - mae: 0.0873 - val_loss: 0.0077 - val_mse: 0.0077 - val_mae: 0.0513\n",
      "\n",
      "Epoch 00001: mse improved from inf to 0.01820, saving model to 20210702-072336_pilotnet_model_100_complete_n_curves_all_albumentations_cp.h5\n",
      "Epoch 2/100\n",
      "954/954 - 318s - loss: 0.0083 - mse: 0.0083 - mae: 0.0546 - val_loss: 0.0060 - val_mse: 0.0060 - val_mae: 0.0418\n",
      "\n",
      "Epoch 00002: mse improved from 0.01820 to 0.00828, saving model to 20210702-072336_pilotnet_model_100_complete_n_curves_all_albumentations_cp.h5\n",
      "Epoch 3/100\n",
      "954/954 - 319s - loss: 0.0065 - mse: 0.0065 - mae: 0.0462 - val_loss: 0.0050 - val_mse: 0.0050 - val_mae: 0.0400\n",
      "\n",
      "Epoch 00003: mse improved from 0.00828 to 0.00647, saving model to 20210702-072336_pilotnet_model_100_complete_n_curves_all_albumentations_cp.h5\n",
      "Epoch 4/100\n",
      "954/954 - 318s - loss: 0.0054 - mse: 0.0054 - mae: 0.0412 - val_loss: 0.0045 - val_mse: 0.0045 - val_mae: 0.0387\n",
      "\n",
      "Epoch 00004: mse improved from 0.00647 to 0.00543, saving model to 20210702-072336_pilotnet_model_100_complete_n_curves_all_albumentations_cp.h5\n",
      "Epoch 5/100\n",
      "954/954 - 363s - loss: 0.0047 - mse: 0.0047 - mae: 0.0374 - val_loss: 0.0037 - val_mse: 0.0037 - val_mae: 0.0308\n",
      "\n",
      "Epoch 00005: mse improved from 0.00543 to 0.00468, saving model to 20210702-072336_pilotnet_model_100_complete_n_curves_all_albumentations_cp.h5\n",
      "Epoch 6/100\n"
     ]
    }
   ],
   "source": [
    "import time\n",
    "from tensorflow.keras.callbacks import EarlyStopping, ModelCheckpoint, TensorBoard, CSVLogger\n",
    "import datetime\n",
    "\n",
    "timestr = time.strftime(\"%Y%m%d-%H%M%S\")\n",
    "print(timestr)\n",
    "img_shape = (60, 160, 3)\n",
    "\n",
    "hparams = {\n",
    "    'train_batch_size': 50, \n",
    "    'val_batch_size': 50,\n",
    "    'batch_size': 50,\n",
    "    'n_epochs': 100, \n",
    "    'checkpoint_dir': 'logs_test/'\n",
    "}\n",
    "\n",
    "print(hparams)\n",
    "\n",
    "model_name = 'pilotnet_model'\n",
    "model = pilotnet_model(img_shape)\n",
    "model_filename = timestr + '_pilotnet_model_100_complete_n_curves_all_albumentations'\n",
    "model_file = model_filename + '.h5'\n",
    "\n",
    "\n",
    "# Training data\n",
    "train_gen = DatasetSequence(images_train, annotations_train, hparams['batch_size'], augmentations=AUGMENTATIONS_TRAIN)\n",
    "\n",
    "# Validation data\n",
    "valid_gen = DatasetSequence(images_validation, annotations_validation, hparams['batch_size'], augmentations=AUGMENTATIONS_TEST)\n",
    "\n",
    "\n",
    "# Define callbacks\n",
    "log_dir = \"logs/fit/\" + datetime.datetime.now().strftime(\"%Y%m%d-%H%M%S\")\n",
    "tensorboard_callback = TensorBoard(log_dir=log_dir, histogram_freq=1)\n",
    "earlystopping=EarlyStopping(monitor=\"mae\", patience=30, verbose=1, mode='auto')\n",
    "# Create a callback that saves the model's weights\n",
    "checkpoint_path = model_filename + '_cp.h5'\n",
    "cp_callback = ModelCheckpoint(filepath=checkpoint_path, monitor='mse', save_best_only=True, verbose=1)\n",
    "csv_logger = CSVLogger(model_filename + '.csv', append=True)\n",
    "\n",
    "# Print layers\n",
    "print(model)\n",
    "model.build(img_shape)\n",
    "print(model.summary())\n",
    "# Training\n",
    "model.fit(\n",
    "    train_gen,\n",
    "    epochs=hparams['n_epochs'],\n",
    "    verbose=2,\n",
    "    validation_data=valid_gen,\n",
    "    #workers=2, use_multiprocessing=False,\n",
    "    callbacks=[tensorboard_callback, earlystopping, cp_callback, csv_logger])\n",
    "\n",
    "# Save the model\n",
    "model.save(model_file)\n",
    "\n",
    "\n",
    "# Evaluate the model\n",
    "score = model.evaluate_generator(valid_gen, verbose=0)\n",
    "\n",
    "print('Evaluating')\n",
    "print('Test loss: ', score[0])\n",
    "print('Test mean squared error: ', score[1])\n",
    "print('Test mean absolute error: ', score[2])\n",
    "\n",
    "\n",
    "# SAVE METADATA\n",
    "from tensorflow.python.keras.saving import hdf5_format\n",
    "import h5py\n",
    "\n",
    "model_path = model_file\n",
    "# Save model\n",
    "with h5py.File(model_path, mode='w') as f:\n",
    "    hdf5_format.save_model_to_hdf5(model, f)\n",
    "    f.attrs['experiment_name'] = ''\n",
    "    f.attrs['experiment_description'] = ''\n",
    "    f.attrs['batch_size'] = hparams['train_batch_size']\n",
    "    f.attrs['nb_epoch'] = hparams['n_epochs']\n",
    "    f.attrs['model'] = model_name\n",
    "    f.attrs['img_shape'] = img_shape\n",
    "    f.attrs['normalized_dataset'] = True\n",
    "    f.attrs['sequences_dataset'] = True\n",
    "    f.attrs['gpu_trained'] = True\n",
    "    f.attrs['data_augmentation'] = True\n",
    "    f.attrs['extreme_data'] = False\n",
    "    f.attrs['split_test_train'] = 0.30\n",
    "    f.attrs['instances_number'] = len(array_annotations_train)\n",
    "    f.attrs['loss'] = score[0]\n",
    "    f.attrs['mse'] = score[1]\n",
    "    f.attrs['mae'] = score[2]\n",
    "    f.attrs['csv_path'] = model_filename + '.csv'"
   ]
  },
  {
   "cell_type": "code",
   "execution_count": null,
   "metadata": {},
   "outputs": [],
   "source": []
  }
 ],
 "metadata": {
  "kernelspec": {
   "display_name": "Python 3",
   "language": "python",
   "name": "python3"
  },
  "language_info": {
   "codemirror_mode": {
    "name": "ipython",
    "version": 3
   },
   "file_extension": ".py",
   "mimetype": "text/x-python",
   "name": "python",
   "nbconvert_exporter": "python",
   "pygments_lexer": "ipython3",
   "version": "3.8.5"
  }
 },
 "nbformat": 4,
 "nbformat_minor": 4
}
